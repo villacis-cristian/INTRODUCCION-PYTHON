{
 "cells": [
  {
   "attachments": {},
   "cell_type": "markdown",
   "id": "bf4bf278-e16c-49e6-8aaf-330c52c2c859",
   "metadata": {},
   "source": [
    "<img src=\"img/Recurso-26.png\" width=\"200\"/>\n",
    "\n",
    "# 01PAO25-25 - Python 01\n",
    "![logo](img/python_logo.png)\n",
    "\n",
    "*Elvis David Pachacama*\n"
   ]
  },
  {
   "cell_type": "markdown",
   "id": "ac5ce34f-2538-470f-bbf2-4c5e5ae170c9",
   "metadata": {},
   "source": [
    "# Introducción a Python\n",
    "\n",
    "### Principales características\n",
    "\n",
    "* Lenguaje de Propósito general\n",
    "* Interpretado, no compilado. Más flexible y portable\n",
    "* Tipado dinámico\n",
    "* Fuertemente tipado\n",
    "* Énfasis en la legibilidad\n",
    "* Lenguaje de alto nivel\n",
    "* Gestión automática de memoria. Cuando el rendimiento es critico, hay lenguajes más apropiados\n",
    "* Multiparadigma: orientado a objetos, procedural y funcional\n",
    "* Indentación para eliminar bloques de código\n",
    "* Gran libreria con módulos para mpultiples tareas.\n",
    "* Multiplataforma\n",
    "\n",
    "### ¿Por qué Python?\n",
    "\n",
    "\"Python is used in pursuits as diverse as data science, film-making, computer science education, IT management, and much <br>\n",
    "more. There really is no computing field that Python has not touched(except maybe kernel development). Python is loved for <br>\n",
    "its flexibility, beautiful and succint syntax, object-oriented purity, and bustling community. The strong community is <br>\n",
    "important because it means Python is welcoming to newcomers and has a large ecosystem of available libraries for developers<br>\n",
    "to build upon\"\n",
    "\n",
    "Kopec, D.(2019). Classic computer science problems in Python. Simon and Shuster.\n",
    "\n",
    "* Uno de los lenguajes mpas usados en todo el mundo.\n",
    "* Perfecto para introducción a la programación\n",
    "* Ecosistema amplio con librerías estables para múltiples áreas\n",
    "* Comunidad muy participativa y mucha documentación\n",
    "* Incrementa la productividad del desarrollador\n",
    "  * Menos programación. Código más compacto.\n",
    "  * No largas compilaciones.\n",
    "  * Código legible, facilmente mantenible\n",
    "* Fácil integración con herramientas y otros lenguajes.\n",
    "* Versátil en la tipología de programación\n",
    "* Es multiplataforma, portable\n",
    "* Compilable para mejorar ejecución\n",
    "* Trabajo de memoria con grna cantida de datos<br>\n",
    "<a href=\"https://survey.stackoverflow.co/2023/\">Stack Overflow Developer Survey 2023</a><br>\n",
    "<a href=\"https://spectrum.ieee.org/top-programming-languages-2024\"> The Top Programming Languages 2024</a><br>\n",
    "<a href=\"https://www.tiobe.com/tiobe-index/\">Tiobe Index</a><br>\n",
    "<a href=\"https://info.hackerrank.com/rs/487-WAY-049/images/HackerRank-2020-Developer-Skills-Report.pdf\">HackerRank Developer Skills Report</a>\n",
    "\n",
    "### ¿Qué puedo hacer con Python?\n",
    "\n",
    "* Herramientas shell (adminitración de sistemas)\n",
    " * Manipulación de ficheros\n",
    " * Ejecución de comandos.\n",
    "* Desarrollo de interfaces Gráficas de Usuario(GUIs)\n",
    "* Internet and network communication.\n",
    "  * Generación y parseado de XML y JSON\n",
    "  * Recuperación de webs por URL\n",
    "  * COmunicación a través de sockets.\n",
    "  * Transferencia de icheros por FTP.\n",
    "* Programación de base de datos.\n",
    "* Computación numérica (NumPy)\n",
    "* Análisis lenguaje natural.\n",
    "* Aprendizaje automático e inteligencia artificial.\n",
    "* Programación multimedia.\n",
    "* Tratamiento de datos.\n",
    "  * linear algebra\n",
    "  * statistical modeling\n",
    "  * visualization\n",
    "  * computational linguistics\n",
    "  * graph analysis\n",
    "  * machine learning\n",
    "  * business intelligence\n",
    "  * data storage an retrieval"
   ]
  },
  {
   "cell_type": "markdown",
   "id": "230cf7c9-d0a3-4587-badd-8cec77211dd8",
   "metadata": {},
   "source": [
    "### Filosofía Python"
   ]
  },
  {
   "cell_type": "code",
   "execution_count": 1,
   "id": "940edaf0-a1c1-4de7-bf52-7203f0cf2adc",
   "metadata": {},
   "outputs": [
    {
     "name": "stdout",
     "output_type": "stream",
     "text": [
      "The Zen of Python, by Tim Peters\n",
      "\n",
      "Beautiful is better than ugly.\n",
      "Explicit is better than implicit.\n",
      "Simple is better than complex.\n",
      "Complex is better than complicated.\n",
      "Flat is better than nested.\n",
      "Sparse is better than dense.\n",
      "Readability counts.\n",
      "Special cases aren't special enough to break the rules.\n",
      "Although practicality beats purity.\n",
      "Errors should never pass silently.\n",
      "Unless explicitly silenced.\n",
      "In the face of ambiguity, refuse the temptation to guess.\n",
      "There should be one-- and preferably only one --obvious way to do it.\n",
      "Although that way may not be obvious at first unless you're Dutch.\n",
      "Now is better than never.\n",
      "Although never is often better than *right* now.\n",
      "If the implementation is hard to explain, it's a bad idea.\n",
      "If the implementation is easy to explain, it may be a good idea.\n",
      "Namespaces are one honking great idea -- let's do more of those!\n"
     ]
    }
   ],
   "source": [
    "import this"
   ]
  },
  {
   "cell_type": "markdown",
   "id": "c99ef8e3-c284-427a-80fa-e0f37b6dbe6d",
   "metadata": {},
   "source": [
    "### Documentación\n",
    "* Python Enhancement Proposals (PEP)\n",
    "\n",
    "  * [Index](https://www.python.org/dev/peps/)\n",
    "  * [Purpose and Guidelines](https://www.python.org/dev/peps/pep-0001/)\n",
    "\n",
    "\n",
    "* [Python Style Guide](https://www.python.org/dev/peps/pep-0008/)\n"
   ]
  },
  {
   "cell_type": "markdown",
   "id": "fa5e2efd-d9d6-4cc4-bd24-c905d56e84c4",
   "metadata": {},
   "source": [
    "# Intérprete de Python y ejecución de scripts"
   ]
  },
  {
   "cell_type": "markdown",
   "id": "0fdb8552-a212-48b2-84e6-0c3428d7c47b",
   "metadata": {},
   "source": [
    "### Antes de empezar\n",
    "#### Se puede utilizar diferentes formas para ejecutar código:\n",
    "* Línea de comandos o terminal, Shell de python o interactivo, python/ipython\n",
    "* IDE -> Eclipse, Pycharm, Sublime, Nano, VSCode, Atom, Spyder, ...\n",
    "* Google Colab, Azure Notebooks, Jupyter"
   ]
  },
  {
   "cell_type": "markdown",
   "id": "27a9d8d0-9d2e-4b27-9f96-8ecdbca2d0e4",
   "metadata": {},
   "source": [
    "### ¿Qué es un intérprete?\n",
    "\n",
    "* Un programa que ejecuta otros programas.\n",
    "\n",
    "* Una capa de software entre tu código y el hardware que lo ejecuta.\n",
    "\n",
    "* Debe estar instalado en tu ordenador para poder ejecutar código Python.\n",
    "\n",
    "* Para la [especificación de Python](https://docs.python.org/3/reference/index.html), existen varias implementaciones:\n",
    "\n",
    "   * CPython (implementación en C). Es el más común.\n",
    "   * Jython (implementación en Java).\n",
    "   * IronPython (implementación en .NET)."
   ]
  },
  {
   "cell_type": "markdown",
   "id": "f51ce476-af78-4920-86b9-02a20ad8d1be",
   "metadata": {},
   "source": [
    "### ¿Cómo se lleva a cabo la ejecución de scripts?"
   ]
  },
  {
   "cell_type": "markdown",
   "id": "3f4ef6db-278f-4db5-b080-98fa8dff11dc",
   "metadata": {},
   "source": [
    "print('Hello World')"
   ]
  },
  {
   "cell_type": "markdown",
   "id": "80833ad7-a8ce-4025-ba05-124651b94616",
   "metadata": {},
   "source": [
    "Guía con detalles para Windows, Linux y macOS: https://realpython.com/run-python-scripts/"
   ]
  },
  {
   "cell_type": "markdown",
   "id": "fe9e6fe0-f19e-403b-b523-79be857db3c3",
   "metadata": {},
   "source": [
    "### Perspectiva del desarrollador\n",
    "\n",
    "* Un script en Python es un fichero de texto que:\n",
    "\n",
    "  * Contiene instrucciones Python.\n",
    "  * Tiene extension *.py*.\n",
    "\n",
    "\n",
    "* Puedes ejecutar scripts:\n",
    "\n",
    "  * Línea de comandos\n",
    "  * IDE"
   ]
  },
  {
   "cell_type": "markdown",
   "id": "36d4e520-e2ae-4dcf-ba1c-c553f72d956d",
   "metadata": {},
   "source": [
    "### Perspectiva de Python\n",
    "\n",
    "1. Compilación de código fuente a *byte code*.\n",
    "\n",
    "    * Código byte code se ejecuta más rápido.\n",
    "    * Ficheros *.pyc* que se almacenan en caché.\n",
    "    * Permite saltarse el paso de compilación.\n",
    "\n",
    "\n",
    "2. Python Virtual Machine (PVM)\n",
    "\n",
    "    * Ejecuta las instrucciones en *byte code*."
   ]
  },
  {
   "cell_type": "markdown",
   "id": "d27e9b31-b750-4d29-8f33-4cfd72357289",
   "metadata": {},
   "source": [
    "<img src=\"img/interpreter.png\" width=\"600\">"
   ]
  },
  {
   "cell_type": "markdown",
   "id": "864c0ead-06a2-4fdd-9d82-9b8a9c6b8cce",
   "metadata": {},
   "source": [
    "### ¿Cómo puedes ejecutar tus scripts?"
   ]
  },
  {
   "cell_type": "markdown",
   "id": "513f6bf0-19bf-4d57-bd35-c9ae0889739e",
   "metadata": {},
   "source": [
    "### Línea de comandos\n",
    "\n",
    "* Ejecutar \"py\" o \"python\" para abrir una sesión interactiva del intérprete.\n",
    "* También ejecutando la aplicación \"Python\" desde el menú inicio.\n",
    "* Los caracteres \">>>\" indican que estás en una sesión interactiva.\n",
    "* Útil para experimentación y testing.\n",
    "\n",
    "```\n",
    ">>> print('Hello world')\n",
    "Hello world\n",
    "```\n",
    "\n",
    "Inconveniente: los programas que ejecutas en la línea de comandos desaparecen tras ser ejecutados."
   ]
  },
  {
   "cell_type": "markdown",
   "id": "4c69f2d7-6532-429b-adc4-a5c94fa953b2",
   "metadata": {},
   "source": [
    "### REPL\n",
    "Sistema interactivo para comunicarse con el ordenador en un leguaje, Python. Se debe cumplir:\n",
    "* Read. El ordenador pueda leer unidades como entrada\n",
    "* Evaluate. El código pueda ser procesado\n",
    "* Print. Los resultados puedan verse\n",
    "* Loop. Continuar con la conversación"
   ]
  },
  {
   "cell_type": "markdown",
   "id": "84507bfa-9306-4013-a236-febff0c367b6",
   "metadata": {},
   "source": [
    "### Ficheros\n",
    "\n",
    "* Permite almacenar programas.\n",
    "* Ficheros de texto con instrucciones Python.\n",
    "  * No olvidar *shebang* en Linux -> `#!/usr/bin/env python3`\n",
    "* Terminología (varía segun fuentes):\n",
    "  * *Scripts* o *programas:* programa principal.\n",
    "  * *Módulos:* ficheros importados desde otros ficheros.\n",
    "\n",
    "\n",
    "* Se puede lanzar pasando nombre de fichero a comando *python*.\n",
    "\n",
    "```\n",
    "> python ./script1.py\n",
    "Hello world\n",
    "```\n",
    "\n",
    "* Otra alternativa (a partir the Python 3.3) es:\n",
    "\n",
    "```\n",
    "> py ./script1.py\n",
    "Hello world\n",
    "```\n",
    "\n",
    "* O incluso:\n",
    "\n",
    "```\n",
    "> ./script1.py\n",
    "Hello world\n",
    "```\n",
    "\n",
    "* También es posible hacer doble-click sobre fichero .py."
   ]
  },
  {
   "cell_type": "markdown",
   "id": "3d481813-8f45-4b8c-aa10-35ec9e8899ff",
   "metadata": {},
   "source": [
    "### Instalación de librerías\n",
    "\n",
    "* pip (built-in >Python3.4)\n",
    "* pipenv (gestiona paquetes y entornos virtuales) o virtualenv"
   ]
  },
  {
   "cell_type": "markdown",
   "id": "5f8fb1a7-8aff-4f01-83d2-3011dc0974d4",
   "metadata": {},
   "source": [
    "### Jupyter"
   ]
  },
  {
   "cell_type": "code",
   "execution_count": 2,
   "id": "54ae8ec0-cf31-469c-ab95-5a4f61ce0086",
   "metadata": {},
   "outputs": [
    {
     "name": "stdout",
     "output_type": "stream",
     "text": [
      "Siempre podremos 'poner' los comentarios en forma de salida, para ver resultados\n",
      "Siempre podremos \"poner\" los comentarios en forma de salida, para ver resultados\n"
     ]
    }
   ],
   "source": [
    "# Preguntar de forma interactiva\n",
    "# print?\n",
    "\n",
    "# Usar shift + tab para hint con ayuda\n",
    "\n",
    "# Comentar una linea\n",
    "\n",
    "# \"\"\"\n",
    "# Se puede comentar un texto\n",
    "# más grande para hacer descripciones detalladas con más de una línea\n",
    "# \"\"\"\n",
    "\n",
    "print(\"Siempre podremos 'poner' los comentarios en forma de salida, para ver resultados\")\n",
    "print('Siempre podremos \"poner\" los comentarios en forma de salida, para ver resultados')\n",
    "\n",
    "# universidad = 'ITQ'\n",
    "\n",
    "# print(universidad)"
   ]
  },
  {
   "cell_type": "markdown",
   "id": "77ad2790-c3ba-47c1-8831-77603ec53282",
   "metadata": {},
   "source": [
    "Celdas Python\n",
    "- Marca el número de la ejecución\n",
    "- Marca si está en ejecución con *\n",
    "\n",
    "Kernel\n",
    "- Se puede resetear el kernel cuando haya problemas\n",
    "- Limpiar y resetear kernel\n",
    "\n",
    "Comandos especiales ([IPython](https://ipython.readthedocs.io/en/stable/index.html)): \n",
    "- %run: ejecuta un script \n",
    "```python\n",
    "%run ./miprograma.py\n",
    "```\n",
    "- %time: ejecuta una línea de código y devuelve el tiempo de ejecución\n",
    "- %%time: ejecuta una celda de código y devuelve el tiempo de ejecución\n",
    "- !: ejecuta un comando de consola \n",
    "- %%bash: ejecuta un comando en bash en un subproceso\n",
    "```bash\n",
    "ls -la\n",
    "```\n",
    "- %%js: ejecuta javascript\n",
    "```js\n",
    "%%js\n",
    "var master = \"Máster en Inteligencia Artificial\";\n",
    "var codigo = 1;\n",
    "alert(\"Esta asinatura tiene el código: \" + codigo)\n",
    "```\n",
    "\n",
    "Atajos de teclado (shortcuts): [Documentación de Jupyter](https://jupyterlab.readthedocs.io/en/stable/user/interface.html)"
   ]
  },
  {
   "cell_type": "code",
   "execution_count": 3,
   "id": "d750824c-2ec9-464b-b961-8a307291c252",
   "metadata": {},
   "outputs": [
    {
     "name": "stdout",
     "output_type": "stream",
     "text": [
      " El volumen de la unidad C no tiene etiqueta.\n",
      " El número de serie del volumen es: 6EFA-6579\n",
      "\n",
      " Directorio de C:\\Users\\ADMIN-ITQ\\Desktop\\elvis\\periodomarzo2025-octubre2025\\Maquinas1Matutino\\Practicas\n",
      "\n",
      "23/06/2025  19:26    <DIR>          .\n",
      "23/06/2025  19:21    <DIR>          ..\n",
      "19/06/2025  10:31    <DIR>          .ipynb_checkpoints\n",
      "23/06/2025  15:27    <DIR>          img\n",
      "23/06/2025  19:26            18.578 Introduccion.ipynb\n",
      "               1 archivos         18.578 bytes\n",
      "               4 dirs  89.939.070.976 bytes libres\n"
     ]
    }
   ],
   "source": [
    "ls"
   ]
  },
  {
   "cell_type": "code",
   "execution_count": 4,
   "id": "8e67d04b-4f08-4854-a4ec-e02d45c2ae89",
   "metadata": {},
   "outputs": [
    {
     "data": {
      "application/javascript": [
       "var asignatura = \"Materia de Machine E-learning 1\";\n",
       "var codigo = 1;\n",
       "alert(\"Esta asinatura tiene el código: \" + codigo)\n"
      ],
      "text/plain": [
       "<IPython.core.display.Javascript object>"
      ]
     },
     "metadata": {},
     "output_type": "display_data"
    }
   ],
   "source": [
    "%%js\n",
    "var asignatura = \"Materia de Machine E-learning 1\";\n",
    "var codigo = 1;\n",
    "alert(\"Esta asinatura tiene el código: \" + codigo)"
   ]
  },
  {
   "cell_type": "markdown",
   "id": "ca7881bb-108f-4b46-856e-839da0ff900f",
   "metadata": {},
   "source": [
    "### Performance Sample, NumPy vs Plain Python"
   ]
  },
  {
   "cell_type": "code",
   "execution_count": 5,
   "id": "21940759-311b-40ca-8538-6bfbfd4fba11",
   "metadata": {},
   "outputs": [],
   "source": [
    "import numpy as np\n",
    "\n",
    "my_arr = np.arange(10000000)  # Utilizando NumPy Arrays\n",
    "\n",
    "my_list = list(range(10000000)) # Utilizando Listas Python"
   ]
  },
  {
   "cell_type": "code",
   "execution_count": null,
   "id": "2b94a471-ea42-48bf-bd89-a5b75a56e518",
   "metadata": {},
   "outputs": [
    {
     "name": "stdout",
     "output_type": "stream",
     "text": [
      "CPU times: total: 828 ms\n",
      "Wall time: 836 ms\n"
     ]
    }
   ],
   "source": [
    "%time for _ in range(10): my_arr2 = my_arr * 2\n",
    "\n",
    "%time for _ in range(10): my_list2 = [x * 2 for x in my_list]"
   ]
  },
  {
   "cell_type": "markdown",
   "id": "753921bc-66cb-4078-a8a6-696231c319be",
   "metadata": {},
   "source": [
    "# Referencias\n",
    "\n",
    "González Duque, R. Python para todos. Licencia Creative Commons.\n",
    "\n",
    "Boschetti, A. y Massaron, L (2016). Python Data Science Essentials, Second edition. Birminghan - Munbai: Packt\n",
    "\n",
    "Python Software Foundation. 2. Built-in Functions — Python 3.6.7 documentation. Recuperado el 16 noviembre 2018 de \n",
    "https://docs.python.org/3.6/library/functions.html\n",
    "\n",
    "Tutorialspoint, Python Tutorial. Recuperado el 16 noviembre 2018 de https://www.tutorialspoint.com/python/\n",
    "\n",
    "Kenneth Reitz (2018), Code Style — The Hitchhiker's Guide to Python. Recuperado el 16 noviembre 2018 de https://docs.python-guide.org/writing/style/\n",
    "\n",
    "Frank Hofmann (2018), Introduction to the Python Coding Style. Recuperado el 16 noviembre 2018 de https://stackabuse.com/introduction-to-the-python-coding-style/\n",
    "\n",
    "Design At Large: Fernando Perez: The Architecture of Jupyter. Perez, Fernando (2017).  https://www.youtube.com/watch?v=dENc0gwzySc&t=131s YouTube."
   ]
  },
  {
   "cell_type": "code",
   "execution_count": null,
   "id": "0d21efa4-11ea-4cdd-bebb-1599c9728c11",
   "metadata": {},
   "outputs": [],
   "source": []
  }
 ],
 "metadata": {
  "kernelspec": {
   "display_name": "Python 3 (ipykernel)",
   "language": "python",
   "name": "python3"
  },
  "language_info": {
   "codemirror_mode": {
    "name": "ipython",
    "version": 3
   },
   "file_extension": ".py",
   "mimetype": "text/x-python",
   "name": "python",
   "nbconvert_exporter": "python",
   "pygments_lexer": "ipython3",
   "version": "3.13.5"
  }
 },
 "nbformat": 4,
 "nbformat_minor": 5
}
