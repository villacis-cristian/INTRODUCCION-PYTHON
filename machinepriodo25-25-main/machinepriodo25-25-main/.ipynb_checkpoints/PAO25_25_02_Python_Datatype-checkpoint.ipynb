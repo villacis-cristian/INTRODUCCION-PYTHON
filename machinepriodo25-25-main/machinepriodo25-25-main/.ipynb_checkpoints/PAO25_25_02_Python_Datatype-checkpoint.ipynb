{
 "cells": [
  {
   "cell_type": "markdown",
   "id": "a2d7d756-20d2-4c09-be22-37d6b4ee9e6c",
   "metadata": {},
   "source": [
    "<img src=\"img/Recurso-26.png\" width=\"200\"/>\n",
    "\n",
    "# 01PAO25-25 - Python, Data Types\n",
    "# TAREA 01 - CRISTIAN VILLACIS\n",
    "\n",
    "\n",
    "\n",
    "![logo](img/python_logo.png)\n",
    "\n",
    "*Elvis David Pachacama*"
   ]
  },
  {
   "cell_type": "markdown",
   "id": "a1ba4a96-aa31-46da-89b9-186a303c54fa",
   "metadata": {},
   "source": [
    "# Comentarios"
   ]
  },
  {
   "cell_type": "markdown",
   "id": "6e5e77aa-c822-45d1-aa4d-3002f7dcbcfd",
   "metadata": {},
   "source": [
    "### ¿Qué son?\n",
    "\n",
    "Texto contenido en ficheros Python que es ignorado por el intérprete; es decir, no es ejecutado."
   ]
  },
  {
   "cell_type": "markdown",
   "id": "5079c608-2246-408b-8f3c-54cb0a46868b",
   "metadata": {},
   "source": [
    "### ¿Cuál es su utilidad?\n",
    "\n",
    "* Se puede utilizar para documentar código y hacerlo más legible\n",
    "\n",
    "* Preferiblemente, trataremos de hacer código fácil de entender y que necesite pocos comentarios, en lugar de vernos forzados a recurrir a los comentarios para explicar el código."
   ]
  },
  {
   "cell_type": "markdown",
   "id": "f916e406-84fe-4a8b-bc0e-6e885360f04e",
   "metadata": {},
   "source": [
    "### Tipos de comentarios\n",
    "\n",
    "**Comentarios de una línea**\n",
    "\n",
    "* Texto precedido por '#'\n",
    "* Se suele usar para documentar expresiones sencillas."
   ]
  },
  {
   "cell_type": "code",
   "execution_count": 2,
   "id": "a5542a23-4bdc-4be9-9a25-42404f50150e",
   "metadata": {},
   "outputs": [
    {
     "name": "stdout",
     "output_type": "stream",
     "text": [
      "Hello world\n"
     ]
    }
   ],
   "source": [
    "# Esto es una instrucción print\n",
    "print('Hello world')   # Esto es una instrucción print"
   ]
  },
  {
   "cell_type": "markdown",
   "id": "cabf0e75-c3d1-45d2-b082-2c66fbf3f9e1",
   "metadata": {},
   "source": [
    "**Comentarios de varias líneas**\n",
    "\n",
    "* Texto encapsulado en triples comillas (que pueden ser tanto comillas simples como dobles).\n",
    "* Se suele usar para documentar bloques de código más significativos."
   ]
  },
  {
   "cell_type": "code",
   "execution_count": 41,
   "id": "0a306f89-7ed2-4ec8-878c-0c6057d0fd73",
   "metadata": {},
   "outputs": [],
   "source": [
    "def producto(x, y):\n",
    "    '''\n",
    "    Esta función recibe dos números como parámetros y devuelve\n",
    "    como resultado el producto de los mismos.\n",
    "    '''\n",
    "    return x * y"
   ]
  },
  {
   "cell_type": "markdown",
   "id": "64843e16-bb42-4929-95bf-491b7926a3fd",
   "metadata": {},
   "source": [
    "De forma muy genérica, al ejecutarse un programa Python, simplemente se realizan *operaciones* sobre *objetos*.\n",
    "\n",
    "Estos dos términos son fundamentales.\n",
    "\n",
    "* *Objetos*: cualquier tipo de datos (números, caracteres o datos más complejos).\n",
    "\n",
    "* *Operaciones*: cómo manipulamos estos datos.\n",
    "\n",
    "Ejemplo:"
   ]
  },
  {
   "cell_type": "code",
   "execution_count": 4,
   "id": "36778abc-8299-4c01-a393-994537902671",
   "metadata": {},
   "outputs": [
    {
     "data": {
      "text/plain": [
       "7"
      ]
     },
     "execution_count": 4,
     "metadata": {},
     "output_type": "execute_result"
    }
   ],
   "source": [
    "4+3"
   ]
  },
  {
   "cell_type": "markdown",
   "id": "6eace925-1b29-46c9-a601-7a40a09a459b",
   "metadata": {},
   "source": [
    "## Literales\n",
    "\n",
    "* Python tiene una serie de tipos de datos integrados en el propio lenguaje.\n",
    "* Los literales son expresiones que generan objetos de estos tipos.\n",
    "* Estos objetos, según su tipo, pueden ser:\n",
    "    * Simples o compuestos.\n",
    "    * Mutables o immutables."
   ]
  },
  {
   "cell_type": "markdown",
   "id": "d11aa476-82fd-4ffa-a438-9d7c879acfa5",
   "metadata": {},
   "source": [
    "#### Literales simples\n",
    "- Enteros\n",
    "- Decimales o punto flotante\n",
    "- Booleano"
   ]
  },
  {
   "cell_type": "code",
   "execution_count": 5,
   "id": "7809cd7b-8a89-451a-b9d2-73a2b848597c",
   "metadata": {},
   "outputs": [
    {
     "name": "stdout",
     "output_type": "stream",
     "text": [
      "4\n",
      "4.2\n",
      "Hello world!\n",
      "False\n"
     ]
    }
   ],
   "source": [
    "print(4)            # número entero\n",
    "print(4.2)          # número en coma flotante\n",
    "print('Hello world!')  # string\n",
    "print(False)"
   ]
  },
  {
   "cell_type": "markdown",
   "id": "fe64e746-a762-4965-95e5-9723a2a7262d",
   "metadata": {},
   "source": [
    "#### Literales compuestos\n",
    "- Tuplas\n",
    "- Listas\n",
    "- Diccionarios\n",
    "- Conjuntos"
   ]
  },
  {
   "cell_type": "code",
   "execution_count": 6,
   "id": "c26191fd-6f2d-46aa-8837-0f118b523ee5",
   "metadata": {},
   "outputs": [
    {
     "name": "stdout",
     "output_type": "stream",
     "text": [
      "[1, 2, 3, 3]\n",
      "{'Nombre': 'John Doe', 'edad': 30}\n",
      "{1, 2, 3}\n",
      "(4, 5)\n"
     ]
    },
    {
     "data": {
      "text/plain": [
       "(2, 4)"
      ]
     },
     "execution_count": 6,
     "metadata": {},
     "output_type": "execute_result"
    }
   ],
   "source": [
    "print([1, 2, 3, 3])                         # lista - mutable\n",
    "print({'Nombre' : 'John Doe', \"edad\": 30})  # Diccionario - mutable\n",
    "print({1, 2, 3, 3})                         # Conjunto - mutable\n",
    "print((4, 5))                               # tupla - inmutable\n",
    "2, 4   "
   ]
  },
  {
   "cell_type": "markdown",
   "id": "40fd3ac5-9ff4-4556-80e1-a7d12c793207",
   "metadata": {},
   "source": [
    "## Variables\n",
    "\n",
    "* Referencias a objetos.\n",
    "* Las variables y los objetos se almacenan en diferentes zonas de memoria.\n",
    "* Las variables siempre referencian a objetos y nunca a otras variables.\n",
    "* Objetos sí que pueden referenciar a otros objetos. Ejemplo: listas."
   ]
  },
  {
   "cell_type": "markdown",
   "id": "16569249-089f-4541-b385-888061244823",
   "metadata": {},
   "source": [
    "<img src=\"img/variablereferences.png\" width=\"550\">"
   ]
  },
  {
   "cell_type": "markdown",
   "id": "b81cf753-e642-42b3-a7e8-ca0dc4a34d45",
   "metadata": {},
   "source": [
    "* Sentencia de asignación:\n",
    "\n",
    "```\n",
    "<nombre_variable> '=' <objeto>\n",
    "```"
   ]
  },
  {
   "cell_type": "code",
   "execution_count": 39,
   "id": "0b8c8ee8-eb43-41fc-aa75-cd6bc3ce70a4",
   "metadata": {},
   "outputs": [
    {
     "name": "stdout",
     "output_type": "stream",
     "text": [
      "5\n"
     ]
    }
   ],
   "source": [
    "# Asignación de variables\n",
    "a = 5\n",
    "print(a)"
   ]
  },
  {
   "cell_type": "code",
   "execution_count": 40,
   "id": "3ddfa6b3-0bb5-4942-bf3d-6c3d298a8470",
   "metadata": {},
   "outputs": [
    {
     "name": "stdout",
     "output_type": "stream",
     "text": [
      "1\n",
      "<class 'int'>\n",
      "4.0\n",
      "<class 'float'>\n",
      "VIU\n",
      "<class 'str'>\n",
      "(10+1j)\n",
      "<class 'complex'>\n",
      "True\n",
      "<class 'bool'>\n",
      "None\n",
      "<class 'NoneType'>\n"
     ]
    }
   ],
   "source": [
    "a = 1                 # entero\n",
    "b = 4.0               # coma flotante\n",
    "c = \"VIU\"             # string\n",
    "d = 10 + 1j           # numero complejo\n",
    "e = True  #False      # boolean\n",
    "f = None              # None\n",
    "\n",
    "# visualizar valor de las variables y su tipo\n",
    "print(a)\n",
    "print(type(a))\n",
    "\n",
    "print(b)\n",
    "print(type(b))\n",
    "\n",
    "print(c)\n",
    "print(type(c))\n",
    "\n",
    "print(d)\n",
    "print(type(d))\n",
    "\n",
    "print(e)\n",
    "print(type(e))\n",
    "\n",
    "print(f)\n",
    "print(type(f))"
   ]
  },
  {
   "cell_type": "markdown",
   "id": "530e0b64-3406-4f60-967f-837dd22983d8",
   "metadata": {},
   "source": [
    "* Las variables no tienen tipo.\n",
    "* Las variables apuntan a objetos que sí lo tienen.\n",
    "* Dado que Python es un lenguaje de tipado dinámico, la misma variable puede apuntar, en momentos diferentes de la ejecución del programa, a objetos de diferente tipo."
   ]
  },
  {
   "cell_type": "code",
   "execution_count": 14,
   "id": "1ffe65f1-bdfa-4c13-9a53-99dfde1c908b",
   "metadata": {},
   "outputs": [
    {
     "name": "stdout",
     "output_type": "stream",
     "text": [
      "3\n",
      "<class 'int'>\n",
      "Pablo García\n",
      "<class 'str'>\n",
      "4.5\n",
      "<class 'float'>\n",
      "ERROR! Session/line number was not unique in database. History logging moved to new session 22\n"
     ]
    }
   ],
   "source": [
    "a = 3\n",
    "print(a)\n",
    "print(type(a))\n",
    "\n",
    "a = 'Pablo García'\n",
    "print(a)\n",
    "print(type(a))\n",
    "\n",
    "a = 4.5\n",
    "print(a)\n",
    "print(type(a))"
   ]
  },
  {
   "cell_type": "markdown",
   "id": "ef5c775b-d903-4346-988c-73555557ee5a",
   "metadata": {},
   "source": [
    "* *Garbage collection*: Cuando un objeto deja de estar referenciado, se elimina automáticamente. "
   ]
  },
  {
   "cell_type": "markdown",
   "id": "73e012d5-0da9-42ad-83d6-a974e747fe5c",
   "metadata": {},
   "source": [
    "#### Identificadores"
   ]
  },
  {
   "cell_type": "markdown",
   "id": "8b8f44b2-c604-4606-8f4b-ffb250c5e5bc",
   "metadata": {},
   "source": [
    "* Podemos obtener un identificador único para los objetos referenciados por variables.\n",
    "* Este identificador se obtiene a partir de la dirección de memoria."
   ]
  },
  {
   "cell_type": "code",
   "execution_count": 38,
   "id": "f6bcef0d-974b-499d-ab3a-77bb23a71082",
   "metadata": {},
   "outputs": [
    {
     "name": "stdout",
     "output_type": "stream",
     "text": [
      "140710404076520\n",
      "2331549804112\n",
      "2331528335696\n"
     ]
    }
   ],
   "source": [
    " a = 3\n",
    " print(id(a))\n",
    "\n",
    " a = 'Pablo García'\n",
    " print(id(a))\n",
    "\n",
    " a = 4.5\n",
    " print(id(a))"
   ]
  },
  {
   "cell_type": "markdown",
   "id": "22bcb6a7-9e9d-471c-9f15-33dd1ec5c379",
   "metadata": {},
   "source": [
    "* *Referencias compartidas*: un mismo objeto puede ser referenciado por más de una variable.\n",
    "\n",
    "    * Variables que referencian al mismo objeto tienen mismo identificador."
   ]
  },
  {
   "cell_type": "code",
   "execution_count": 3,
   "id": "8dad123b-e895-4c11-a059-9b480d1eb6a9",
   "metadata": {},
   "outputs": [
    {
     "name": "stdout",
     "output_type": "stream",
     "text": [
      "2908448928336\n"
     ]
    }
   ],
   "source": [
    "a = 4567\n",
    "print(id(a))"
   ]
  },
  {
   "cell_type": "code",
   "execution_count": 4,
   "id": "ba7501b3-a562-4755-b3b2-b8ce41ed8bdf",
   "metadata": {},
   "outputs": [
    {
     "name": "stdout",
     "output_type": "stream",
     "text": [
      "2908448928336\n"
     ]
    }
   ],
   "source": [
    "b = a\n",
    "print(id(b))"
   ]
  },
  {
   "cell_type": "code",
   "execution_count": 5,
   "id": "3f1883eb-0d23-4b5f-8330-3b20eb4ae9cf",
   "metadata": {},
   "outputs": [
    {
     "name": "stdout",
     "output_type": "stream",
     "text": [
      "2908448928400\n"
     ]
    }
   ],
   "source": [
    "c = 4567\n",
    "print(id(c))"
   ]
  },
  {
   "cell_type": "code",
   "execution_count": 16,
   "id": "2d0ff3c9-eebf-43dc-9554-62d7a807b409",
   "metadata": {},
   "outputs": [
    {
     "name": "stdout",
     "output_type": "stream",
     "text": [
      "1485912278000\n",
      "1485912278000\n",
      "1485912278000\n"
     ]
    }
   ],
   "source": [
    " a = 25\n",
    " b = 25\n",
    "\n",
    " print(id(a))\n",
    " print(id(b))\n",
    " print(id(25))"
   ]
  },
  {
   "cell_type": "code",
   "execution_count": 19,
   "id": "eaee39b0-cf27-46ad-a32b-ac88217f6ba5",
   "metadata": {},
   "outputs": [
    {
     "name": "stdout",
     "output_type": "stream",
     "text": [
      "1485987880528\n",
      "1485987881936\n",
      "1485987882256\n"
     ]
    }
   ],
   "source": [
    " Ojo con los enteros \"grandes\" [-5, 256]\n",
    " a = 258\n",
    " b = 258\n",
    "\n",
    " print(id(a))\n",
    " print(id(b))\n",
    " print(id(258))"
   ]
  },
  {
   "cell_type": "markdown",
   "id": "71a43364-2d61-44b8-b8ab-f2ed73747466",
   "metadata": {},
   "source": [
    "* Referencia al mismo objeto a través de asignar una variable a otra."
   ]
  },
  {
   "cell_type": "code",
   "execution_count": 23,
   "id": "d2c19129-629a-447f-ae80-e81e119c7dc1",
   "metadata": {},
   "outputs": [
    {
     "name": "stdout",
     "output_type": "stream",
     "text": [
      "1485987882448\n",
      "1485987882448\n"
     ]
    }
   ],
   "source": [
    " a = 400\n",
    " b = a\n",
    " print(id(a))\n",
    " print(id(b))"
   ]
  },
  {
   "cell_type": "markdown",
   "id": "b88bd87c-78e8-4a3b-a73f-54df7fd894da",
   "metadata": {},
   "source": [
    "* Las variables pueden aparecer en expresiones."
   ]
  },
  {
   "cell_type": "code",
   "execution_count": 24,
   "id": "d3fe9c6e-477f-441e-9533-d35428d8487c",
   "metadata": {},
   "outputs": [
    {
     "name": "stdout",
     "output_type": "stream",
     "text": [
      "8\n"
     ]
    }
   ],
   "source": [
    " a = 3\n",
    " b = 5\n",
    " print (a + b)"
   ]
  },
  {
   "cell_type": "code",
   "execution_count": 25,
   "id": "1be11cbd-be4c-47e8-886b-f6ea66cee4ac",
   "metadata": {},
   "outputs": [
    {
     "name": "stdout",
     "output_type": "stream",
     "text": [
      "8\n",
      "1485912277456\n"
     ]
    }
   ],
   "source": [
    " c = a + b\n",
    " print(c)\n",
    " print(id(c))"
   ]
  },
  {
   "cell_type": "markdown",
   "id": "fe104bc9-6d69-4c27-8aee-58fb38c3ef0d",
   "metadata": {},
   "source": [
    "#### Respecto a los nombres de las variables ...\n",
    "\n",
    "* No se puede poner números delante del nombre de las variables.\n",
    "* Por convención, evitar *CamelCase*. Mejor usar *snake_case*: uso de \"_\" para separar palabras.\n",
    "* El lenguaje diferencia entre mayúsculas y minúsculas.\n",
    "* Deben ser descriptivos.\n",
    "* Hay palabras o métodos reservados -> [Built-ins](https://docs.python.org/3/library/functions.html) y [KeyWords](https://docs.python.org/3/reference/lexical_analysis.html#keywords)\n",
    "    * **Ojo** con reasignar un nombre reservado!"
   ]
  },
  {
   "cell_type": "code",
   "execution_count": 26,
   "id": "75a52700-677d-49f0-9282-e2d396a7ca08",
   "metadata": {},
   "outputs": [
    {
     "name": "stdout",
     "output_type": "stream",
     "text": [
      "9\n"
     ]
    }
   ],
   "source": [
    " print(pow(3,2))"
   ]
  },
  {
   "cell_type": "code",
   "execution_count": 67,
   "id": "241a195f-2b2c-49e6-84ba-401912401261",
   "metadata": {},
   "outputs": [],
   "source": [
    " #print(pow(3,2))\n",
    "\n",
    " #pow = 1   #built-in reasignado\n",
    " #print(pow)\n",
    "\n",
    " #print(pow(3,2))"
   ]
  },
  {
   "cell_type": "code",
   "execution_count": 61,
   "id": "6ec1f28b-be9d-404f-b9e9-d13243cfe8be",
   "metadata": {},
   "outputs": [],
   "source": [
    "def pow(a, b):\n",
    "    return a + b"
   ]
  },
  {
   "cell_type": "markdown",
   "id": "8fa52385-18b1-425b-b876-3ce392d35dfd",
   "metadata": {},
   "source": [
    "#### Asignación múltiple de variables"
   ]
  },
  {
   "cell_type": "code",
   "execution_count": 32,
   "id": "4feb1c94-9783-41e0-87a3-56b337c7e2da",
   "metadata": {},
   "outputs": [
    {
     "name": "stdout",
     "output_type": "stream",
     "text": [
      "1 2 3\n",
      "(1, 2, 3, 7, 'Python')\n",
      "<class 'tuple'>\n"
     ]
    }
   ],
   "source": [
    " x, y, z = 1, 2, 3\n",
    " print(x, y, z)\n",
    "\n",
    " t = x, y, z, 7, \"Python\"\n",
    " print(t)\n",
    " print(type(t))"
   ]
  },
  {
   "cell_type": "markdown",
   "id": "cec05ada-7237-4207-a89c-447c68cb6f5e",
   "metadata": {},
   "source": [
    "* Esta técnica tiene un uso interesante: el intercambio de valores entre dos variables."
   ]
  },
  {
   "cell_type": "code",
   "execution_count": 16,
   "id": "c0a26a4e-39ef-4e73-9d80-dd98ffe8336e",
   "metadata": {},
   "outputs": [
    {
     "name": "stdout",
     "output_type": "stream",
     "text": [
      "2 1\n"
     ]
    }
   ],
   "source": [
    " a = 1\n",
    " b = 2\n",
    "\n",
    " a, b = b, a\n",
    " print(a, b)"
   ]
  },
  {
   "cell_type": "code",
   "execution_count": 15,
   "id": "9062066c-39cd-4668-a941-042759fe61b7",
   "metadata": {},
   "outputs": [
    {
     "name": "stdout",
     "output_type": "stream",
     "text": [
      "2 1\n"
     ]
    }
   ],
   "source": [
    " a = 1\n",
    " b = 2\n",
    "\n",
    " c = a\n",
    " a = b\n",
    " b = c\n",
    " print(a, b)"
   ]
  },
  {
   "cell_type": "markdown",
   "id": "36de71c7-73e6-4939-901c-491acbc17f75",
   "metadata": {},
   "source": [
    "## Tipos de datos básicos"
   ]
  },
  {
   "cell_type": "markdown",
   "id": "0cdac01e-cc4d-42fe-b785-07a7cafb8eb0",
   "metadata": {},
   "source": [
    "#### Bool"
   ]
  },
  {
   "cell_type": "markdown",
   "id": "a679fc08-c2cf-49ab-9768-50a25d97c71d",
   "metadata": {},
   "source": [
    "* 2 posibles valores: 'True' o 'False'."
   ]
  },
  {
   "cell_type": "code",
   "execution_count": 1,
   "id": "82f6c1fe-ebe0-4048-b058-cc7ce08260d1",
   "metadata": {},
   "outputs": [
    {
     "name": "stdout",
     "output_type": "stream",
     "text": [
      "False\n",
      "<class 'bool'>\n",
      "True\n",
      "<class 'bool'>\n"
     ]
    }
   ],
   "source": [
    " a = False\n",
    " b = True\n",
    "\n",
    " print(a)\n",
    " print(type(a))\n",
    "\n",
    " print(b)\n",
    " print(type(b))"
   ]
  },
  {
   "cell_type": "markdown",
   "id": "f480ae16-536c-4eee-9928-44bcc8be6e8b",
   "metadata": {},
   "source": [
    "* 'True' y 'False' también son objetos que se guardan en caché, al igual que los enteros pequeños."
   ]
  },
  {
   "cell_type": "code",
   "execution_count": 17,
   "id": "e1a1dfaf-52fd-4c7e-a592-5495db1fff76",
   "metadata": {},
   "outputs": [
    {
     "name": "stdout",
     "output_type": "stream",
     "text": [
      "140710403164640\n",
      "140710403164640\n",
      "True\n",
      "True\n"
     ]
    }
   ],
   "source": [
    " a = True\n",
    " b = True\n",
    "\n",
    " print(id(a))\n",
    " print(id(b))\n",
    "\n",
    " print(a is b)\n",
    " print(a == b)"
   ]
  },
  {
   "cell_type": "markdown",
   "id": "a8055741-b15f-438c-abd0-c8ba4c35dea8",
   "metadata": {},
   "source": [
    "#### Números"
   ]
  },
  {
   "cell_type": "code",
   "execution_count": 19,
   "id": "cac76e34-af4b-469e-94de-7a272d1c9ef9",
   "metadata": {},
   "outputs": [
    {
     "name": "stdout",
     "output_type": "stream",
     "text": [
      "2\n",
      "3.4\n",
      "(2+4j)\n",
      "0.5\n"
     ]
    }
   ],
   "source": [
    " print(2)     # Enteros, sin parte fraccional.\n",
    " print(3.4)   # Números en coma flotante, con parte fraccional.\n",
    " print(2+4j)  # Números complejos.\n",
    " print(1/2)   # Numeros racionales."
   ]
  },
  {
   "cell_type": "markdown",
   "id": "7889791a-bbb7-4da4-92f5-f887d2b9e995",
   "metadata": {},
   "source": [
    "* Diferentes representaciones: base 10, 2, 8, 16."
   ]
  },
  {
   "cell_type": "code",
   "execution_count": 21,
   "id": "5e159856-f393-4645-a8f0-5228a0c4b701",
   "metadata": {},
   "outputs": [
    {
     "name": "stdout",
     "output_type": "stream",
     "text": [
      "True\n"
     ]
    }
   ],
   "source": [
    " x = 58          # decimal\n",
    " z = 0b00111010  # binario\n",
    " w = 0o72        # octal\n",
    " y = 0x3A        # hexadecimal\n",
    "\n",
    " print(x == y == z == w)"
   ]
  },
  {
   "cell_type": "markdown",
   "id": "ddafc026-3e4d-47a8-850f-a508f4b9d1d7",
   "metadata": {},
   "source": [
    "#### Strings"
   ]
  },
  {
   "cell_type": "markdown",
   "id": "54e82599-8cfc-4345-a6f2-5cfced0a9336",
   "metadata": {},
   "source": [
    "* Cadenas de caracteres.\n",
    "* Son *secuencias*: la posición de los caracteres es importante.\n",
    "* Son immutables: las operaciones sobre strings no cambian el string original."
   ]
  },
  {
   "cell_type": "code",
   "execution_count": 22,
   "id": "a8da038e-67d3-40c3-b351-8e1ad0ff8a99",
   "metadata": {},
   "outputs": [
    {
     "name": "stdout",
     "output_type": "stream",
     "text": [
      "J\n",
      "e\n",
      "on\"e\n",
      "John \"ee\" Doe\n",
      "John \"ee\" Doee\n"
     ]
    }
   ],
   "source": [
    " s = 'John \"ee\" Doe'\n",
    " print(s[0])     # Primer carácter del string.\n",
    " print(s[-1])    # Último carácter del string.\n",
    " print(s[1:8:2]) # Substring desde el segundo carácter (inclusive) hasta el octavo (exclusive). Esta técnica se la conoce como 'slicing'.\n",
    " print(s[:])     # Todo el string.\n",
    " print(s + \"e\")  # Concatenación."
   ]
  },
  {
   "cell_type": "markdown",
   "id": "f22155b8-793a-4b24-8574-b912c95f69ba",
   "metadata": {},
   "source": [
    "## Conversión entre tipos"
   ]
  },
  {
   "cell_type": "markdown",
   "id": "0bb12057-353b-408e-90b2-89da6cb3482a",
   "metadata": {},
   "source": [
    "* A veces queremos que un objeto sea de un tipo específico. \n",
    "* Podemos obtener objetos de un tipo a partir de objetos de un tipo diferente (*casting*)."
   ]
  },
  {
   "cell_type": "code",
   "execution_count": 5,
   "id": "bdc2fb65-98ad-40cf-b387-821a147b2120",
   "metadata": {},
   "outputs": [
    {
     "name": "stdout",
     "output_type": "stream",
     "text": [
      "2\n",
      "<class 'int'>\n",
      "3\n",
      "<class 'int'>\n",
      "1.0\n",
      "<class 'float'>\n",
      "3.0\n",
      "<class 'float'>\n",
      "2\n",
      "<class 'str'>\n",
      "3.0\n",
      "<class 'str'>\n",
      "True\n",
      "<class 'bool'>\n",
      "False\n",
      "<class 'bool'>\n",
      "True\n",
      "<class 'bool'>\n",
      "False\n",
      "<class 'bool'>\n",
      "False\n"
     ]
    }
   ],
   "source": [
    " a = int(2.8)    # a será 2\n",
    " b = int(\"3\")    # b será 3\n",
    " c = float(1)    # c será 1.0\n",
    " d = float(\"3\")  # d será 3.0\n",
    " e = str(2)      # e será '2'\n",
    " f = str(3.0)    # f será '3.0'\n",
    " g = bool(\"a\")   # g será True\n",
    " h = bool(\"\")    # h será False\n",
    " i = bool(3)     # i será True\n",
    " j = bool(0)     # j será False\n",
    " k = bool(None)\n",
    " print(a)\n",
    " print(type(a))\n",
    " print(b)\n",
    " print(type(b))\n",
    " print(c)\n",
    " print(type(c))\n",
    " print(d)\n",
    " print(type(d))\n",
    " print(e)\n",
    " print(type(e))\n",
    " print(f)\n",
    " print(type(f))\n",
    " print(g)\n",
    " print(type(g))\n",
    " print(h)\n",
    " print(type(h))\n",
    " print(i)\n",
    " print(type(i))\n",
    " print(j)\n",
    " print(type(j))\n",
    " print(k)"
   ]
  },
  {
   "cell_type": "code",
   "execution_count": 6,
   "id": "4bcc10a7-0369-455d-a0ac-6e009102cb85",
   "metadata": {},
   "outputs": [
    {
     "name": "stdout",
     "output_type": "stream",
     "text": [
      "1.75\n",
      "1\n",
      "1\n"
     ]
    }
   ],
   "source": [
    " print(7/4)       # División convencional. Resultado de tipo 'float'\n",
    " print(7//4)      # División entera. Resultado de tipo 'int'\n",
    " print(int(7/4))  # Divisón convencional. Conversión del resultado de 'float' a 'int'"
   ]
  },
  {
   "cell_type": "markdown",
   "id": "781f8fb4-be36-4eee-8ded-6299fbae9ed4",
   "metadata": {},
   "source": [
    "## Operadores\n",
    "[Python3 precedencia en operaciones](https://docs.python.org/3/reference/expressions.html#operator-precedence)\n",
    "\n",
    "- Combinación de valores, variables y operadores\n",
    "- Operadores y operandos"
   ]
  },
  {
   "cell_type": "markdown",
   "id": "8c3eb537-308c-4aab-94e4-0f47de9e6bd2",
   "metadata": {},
   "source": [
    "#### Operatores aritméticos\n",
    "\n",
    "| Operador | Desc |\n",
    "|:---------|:-----|\n",
    "| a + b    | Suma |\n",
    "| a - b    | Resta |\n",
    "| a / b    | División |\n",
    "| a // b   | División Entera |\n",
    "| a % b    | Modulo / Resto |\n",
    "| a * b    | Multiplicacion |\n",
    "| a ** b   | Exponenciación |"
   ]
  },
  {
   "cell_type": "code",
   "execution_count": 7,
   "id": "43a54066-669f-4d09-b9e9-61e8bf058e82",
   "metadata": {},
   "outputs": [
    {
     "name": "stdout",
     "output_type": "stream",
     "text": [
      "x + y =  5\n",
      "x - y =  1\n",
      "x * y =  6\n",
      "x / y =  1.5\n",
      "x // y =  1\n",
      "x % y =  1\n",
      "x ** y =  9\n"
     ]
    }
   ],
   "source": [
    " x = 3\n",
    " y = 2\n",
    "\n",
    " print('x + y = ', x + y)\n",
    " print('x - y = ', x - y)\n",
    " print('x * y = ', x * y)\n",
    " print('x / y = ', x / y)\n",
    " print('x // y = ', x // y)\n",
    " print('x % y = ', x % y)\n",
    " print('x ** y = ', x ** y)"
   ]
  },
  {
   "cell_type": "markdown",
   "id": "43cdf9cb-950c-484c-889d-3455cdc96f31",
   "metadata": {},
   "source": [
    "#### Operadores de comparación\n",
    "\n",
    "| Operador | Desc |\n",
    "|:---------|:-----|\n",
    "| a > b    | Mayor |\n",
    "| a < b    | Menor |\n",
    "| a == b    | Igualdad |\n",
    "| a != b   | Desigualdad |\n",
    "| a >= b    | Mayor o Igual |\n",
    "| a <= b    | Menor o Igual |"
   ]
  },
  {
   "cell_type": "code",
   "execution_count": 8,
   "id": "cc30dd5c-a09b-46f9-aff6-447e00bd2450",
   "metadata": {},
   "outputs": [
    {
     "name": "stdout",
     "output_type": "stream",
     "text": [
      "x > y  es  False\n",
      "x < y  es  True\n",
      "x == y es  False\n",
      "x != y es  True\n",
      "x >= y es  False\n",
      "x <= y es  True\n"
     ]
    }
   ],
   "source": [
    " x = 10\n",
    " y = 12\n",
    "\n",
    " print('x > y  es ', x > y)\n",
    " print('x < y  es ', x < y)\n",
    " print('x == y es ', x == y)\n",
    " print('x != y es ', x != y)\n",
    " print('x >= y es ', x >= y)\n",
    " print('x <= y es ', x <= y)"
   ]
  },
  {
   "cell_type": "markdown",
   "id": "6e5a8de1-6cbe-4e84-9c64-d7c232169d28",
   "metadata": {},
   "source": [
    "#### Operadores Lógicos\n",
    "\n",
    "\n",
    "| Operador | Desc |\n",
    "|:---------|:-----|\n",
    "| a and b  | True, si ambos son True |\n",
    "| a or b   | True, si alguno de los dos es True |\n",
    "| a ^ b   | XOR - True, si solo uno de los dos es True |\n",
    "| not a    | Negación |"
   ]
  },
  {
   "cell_type": "markdown",
   "id": "5052ff5a-3353-489b-a085-819f7bf75b55",
   "metadata": {},
   "source": [
    "Enlace a [Tablas de Verdad](https://en.wikipedia.org/wiki/Truth_table)."
   ]
  },
  {
   "cell_type": "code",
   "execution_count": 9,
   "id": "d3b9c2b2-1d85-432c-b561-180561de1894",
   "metadata": {},
   "outputs": [
    {
     "name": "stdout",
     "output_type": "stream",
     "text": [
      "x and y es : False\n",
      "x or y es  : True\n",
      "x xor y es  : True\n",
      "not x es   : False\n"
     ]
    }
   ],
   "source": [
    " x = True\n",
    " y = False\n",
    "\n",
    " print('x and y es :', x and y)\n",
    " print('x or y es  :', x or y)\n",
    " print('x xor y es  :', x ^ y)\n",
    " print('not x es   :', not x)"
   ]
  },
  {
   "cell_type": "markdown",
   "id": "da1c7c1d-ddcb-4a3c-9fbc-79d17f6b000c",
   "metadata": {},
   "source": [
    "#### Operadores Bitwise / Binarios\n",
    "\n",
    "| Operador | Desc |\n",
    "|:---------|:-----|\n",
    "| a & b  | And binario |\n",
    "| a \\| b   | Or binario |\n",
    "| a ^ b   | Xor binario |\n",
    "| ~ a    | Not binario |\n",
    "| a >> b   | Desplazamiento binario a derecha |\n",
    "| a << b   | Desplazamiento binario a izquierda |"
   ]
  },
  {
   "cell_type": "code",
   "execution_count": 10,
   "id": "21408e2e-e74f-4ac0-b9b1-a923a38d59d3",
   "metadata": {},
   "outputs": [
    {
     "name": "stdout",
     "output_type": "stream",
     "text": [
      "Not x = -0b1100111\n",
      "x and y = 0b100010\n",
      "x or y = 0b1110111\n",
      "x xor y = 0b1010101\n",
      "x << 2 = 0b110011000\n",
      "x >> 2 = 0b11001\n"
     ]
    }
   ],
   "source": [
    " x = 0b01100110\n",
    " y = 0b00110011\n",
    " print(\"Not x = \" + bin(~x))\n",
    " print(\"x and y = \" + bin(x & y))\n",
    " print(\"x or y = \" + bin(x | y))\n",
    " print(\"x xor y = \" + bin(x ^ y))\n",
    " print(\"x << 2 = \" + bin(x << 2))\n",
    " print(\"x >> 2 = \" + bin(x >> 2))"
   ]
  },
  {
   "cell_type": "markdown",
   "id": "8fed1a7d-4e00-4a67-9c38-51a821304f4c",
   "metadata": {},
   "source": [
    "#### Operadores de Asignación\n",
    "\n",
    "| Operador | Desc |\n",
    "|:---------|:-----|\n",
    "| =   | Asignación |\n",
    "| +=  | Suma y asignación |\n",
    "| -=  | Resta y asignación|\n",
    "| *=  | Multiplicación y asignación |\n",
    "| /=  | División y asignación |\n",
    "| %=  | Módulo y asignación |\n",
    "| //= | División entera y asignación |\n",
    "| **= | Exponencial y asignación |\n",
    "| &=  | And y asignación |\n",
    "| \\|=  | Or y asignación |\n",
    "| ^=  | Xor y asignación |\n",
    "| >>= | Despl. Derecha y asignación |\n",
    "| <<= | DEspl. Izquierda y asignación |"
   ]
  },
  {
   "cell_type": "code",
   "execution_count": 11,
   "id": "5093a74d-6371-4b2a-82f5-92296c1cab6d",
   "metadata": {},
   "outputs": [
    {
     "name": "stdout",
     "output_type": "stream",
     "text": [
      "16\n",
      "4\n"
     ]
    }
   ],
   "source": [
    " a = 5\n",
    " a *= 3   # a = a * 3\n",
    " a += 1   # No existe a++, ni ++a\n",
    " print(a)\n",
    "\n",
    " b = 6\n",
    " b -= 2   # b = b - 2\n",
    " print(b)"
   ]
  },
  {
   "cell_type": "markdown",
   "id": "4d05ec3a-d78e-4c90-9f06-655a354296b8",
   "metadata": {},
   "source": [
    "#### Operadores de Identidad\n",
    "\n",
    "| Operador | Desc |\n",
    "|:---------|:-----|\n",
    "| a is b  | True, si ambos operadores son una referencia al mismo objeto |\n",
    "| a is not b | True, si ambos operadores *no* son una referencia al mismo objeto |"
   ]
  },
  {
   "cell_type": "code",
   "execution_count": 12,
   "id": "c13b16fb-f274-46c4-bce0-46b3032cdab8",
   "metadata": {},
   "outputs": [
    {
     "name": "stdout",
     "output_type": "stream",
     "text": [
      "True\n",
      "False\n"
     ]
    }
   ],
   "source": [
    " a = 4444\n",
    " b = a\n",
    " print(a is b)\n",
    " print(a is not b)"
   ]
  },
  {
   "cell_type": "markdown",
   "id": "238ce290-65ab-4975-88fb-27215bfdec57",
   "metadata": {},
   "source": [
    "#### Operadores de Pertenencia\n",
    "\n",
    "| Operador | Desc |\n",
    "|:---------|:-----|\n",
    "| a in b  | True, si *a* se encuentra en la secuencia *b* |\n",
    "| a not in b | True, si *a* no se encuentra en la secuencia *b* |"
   ]
  },
  {
   "cell_type": "code",
   "execution_count": 23,
   "id": "3d5a0e0a-c0d6-4148-b137-aacca792fcb3",
   "metadata": {},
   "outputs": [
    {
     "name": "stdout",
     "output_type": "stream",
     "text": [
      "True\n",
      "True\n",
      "True\n",
      "False\n"
     ]
    }
   ],
   "source": [
    " x = 'Hola Mundo'\n",
    " y = {1:'a',2:'b'}\n",
    "\n",
    " print('H' in x)         # True\n",
    " print('hola' not in x)  # True\n",
    "\n",
    " print(1 in y)           # True\n",
    " print('a' in y)         # False"
   ]
  },
  {
   "cell_type": "markdown",
   "id": "0ee845c3-aea3-4957-a2f7-7e69fc38f572",
   "metadata": {},
   "source": [
    "## Entrada de valores"
   ]
  },
  {
   "cell_type": "code",
   "execution_count": 31,
   "id": "85857dd7-3c17-40df-b8a9-7ed60889fc8e",
   "metadata": {},
   "outputs": [
    {
     "name": "stdin",
     "output_type": "stream",
     "text": [
      "Inserte valor: 17\n"
     ]
    },
    {
     "name": "stdout",
     "output_type": "stream",
     "text": [
      "17\n"
     ]
    }
   ],
   "source": [
    " valor = input(\"Inserte valor:\")\n",
    " print(valor)"
   ]
  },
  {
   "cell_type": "code",
   "execution_count": 30,
   "id": "a7455d95-ac4f-42ed-901a-65150de1b3ad",
   "metadata": {},
   "outputs": [
    {
     "name": "stdout",
     "output_type": "stream",
     "text": [
      "Grados F: 33.8\n"
     ]
    },
    {
     "name": "stdin",
     "output_type": "stream",
     "text": [
      "Conversión de grados a fahrenheit, inserte un valor:  25\n"
     ]
    }
   ],
   "source": [
    " grados_c = input(\"Conversión de grados a fahrenheit, inserte un valor: \")\n",
    " print(f\"Grados F: {1.8 * int(grados_c) + 32}\")"
   ]
  },
  {
   "cell_type": "markdown",
   "id": "57de152c-e43e-4321-900b-8818606bc2f2",
   "metadata": {},
   "source": [
    "# Tipos de datos compuestos (colecciones)"
   ]
  },
  {
   "cell_type": "markdown",
   "id": "295e178d-f9b2-46ed-bd00-0495dbdca50d",
   "metadata": {},
   "source": [
    "## Listas\n",
    "\n",
    "* Una colección de objetos.\n",
    "* Mutables.\n",
    "* Tipos arbitrarios heterogeneos.\n",
    "* Puede contener duplicados.\n",
    "* No tienen tamaño fijo. Pueden contener tantos elementos como quepan en memoria.\n",
    "* Los elementos van ordenados por posición.\n",
    "* Se acceden usando la sintaxis: **[index]**.\n",
    "* Los índices van de *0* a *n-1*, donde *n* es el número de elementos de la lista.\n",
    "* Son un tipo de *Secuencia*, al igual que los strings; por lo tanto, el orden (es decir, la posición de los objetos de la lista) es importante.\n",
    "* Soportan anidamiento.\n",
    "* Son una implementación del tipo abstracto de datos: *Array Dinámico*."
   ]
  },
  {
   "cell_type": "markdown",
   "id": "ff3d3955-1480-42cc-8452-ae962fa7d446",
   "metadata": {},
   "source": [
    "<img src=\"img/data_types/list.png\" width=\"800\">"
   ]
  },
  {
   "cell_type": "markdown",
   "id": "750d1983-37d9-4db0-932e-7856f27013b5",
   "metadata": {},
   "source": [
    "#### Operaciones con listas"
   ]
  },
  {
   "cell_type": "markdown",
   "id": "fdd80c1a-c3d2-41e6-a1b5-1f60fc0676a3",
   "metadata": {},
   "source": [
    "* Creación de listas."
   ]
  },
  {
   "cell_type": "code",
   "execution_count": 4,
   "id": "dafeeb08-c86e-426f-ad7a-5c50f6483a8d",
   "metadata": {},
   "outputs": [
    {
     "name": "stdout",
     "output_type": "stream",
     "text": [
      "['a', 'b', 'c', 'd']\n",
      "['Hola', 'mundo']\n",
      "[0, 1, 2, 3, 4]\n",
      "<class 'list'>\n"
     ]
    }
   ],
   "source": [
    " letras = ['a', 'b', 'c', 'd']\n",
    " palabras = 'Hola mundo'.split()\n",
    " numeros = list(range(5))\n",
    "\n",
    " print(letras)\n",
    " print(palabras)\n",
    " print(numeros)\n",
    " print(type(numeros))"
   ]
  }
 ],
 "metadata": {
  "kernelspec": {
   "display_name": "Python 3 (ipykernel)",
   "language": "python",
   "name": "python3"
  },
  "language_info": {
   "codemirror_mode": {
    "name": "ipython",
    "version": 3
   },
   "file_extension": ".py",
   "mimetype": "text/x-python",
   "name": "python",
   "nbconvert_exporter": "python",
   "pygments_lexer": "ipython3",
   "version": "3.13.5"
  }
 },
 "nbformat": 4,
 "nbformat_minor": 5
}
