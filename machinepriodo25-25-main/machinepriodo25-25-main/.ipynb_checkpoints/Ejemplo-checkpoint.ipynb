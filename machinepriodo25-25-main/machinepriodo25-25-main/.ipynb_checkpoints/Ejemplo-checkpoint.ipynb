{
 "cells": [
  {
   "cell_type": "markdown",
   "id": "ae31171c-5b6b-451a-9f45-7e6d3cdc466d",
   "metadata": {},
   "source": [
    "# Introducción\n",
    "Este es un documento de Python que me permite entender las bases de este lenguaje de programción.<br>\n",
    "<img src=\"https://www.channelpartner.es/wp-content/uploads/2022/11/79456_49.jpg\">\n",
    "https://github.com/ElvisDavis/machinepriodo25-25/blob/main/PAO25_25_02_Python_Datatype.ipynb\n",
    "* Python lenguaje de programción\n",
    "* Java de Programación\n",
    "  * Php lenguaje de programación "
   ]
  },
  {
   "cell_type": "code",
   "execution_count": 8,
   "id": "c38ed2d5-e487-41b5-a57b-7ff4ab0be414",
   "metadata": {},
   "outputs": [
    {
     "name": "stdout",
     "output_type": "stream",
     "text": [
      "el resultado de a es:  5\n"
     ]
    }
   ],
   "source": [
    "# Estos es un comentario\n",
    "a= 5\n",
    "print (\"el resultado de a es: \", a)"
   ]
  },
  {
   "cell_type": "code",
   "execution_count": null,
   "id": "38240236-d828-429f-b713-02e6dee59573",
   "metadata": {},
   "outputs": [],
   "source": []
  }
 ],
 "metadata": {
  "kernelspec": {
   "display_name": "Python 3 (ipykernel)",
   "language": "python",
   "name": "python3"
  },
  "language_info": {
   "codemirror_mode": {
    "name": "ipython",
    "version": 3
   },
   "file_extension": ".py",
   "mimetype": "text/x-python",
   "name": "python",
   "nbconvert_exporter": "python",
   "pygments_lexer": "ipython3",
   "version": "3.11.13"
  }
 },
 "nbformat": 4,
 "nbformat_minor": 5
}
